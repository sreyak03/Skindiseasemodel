{
 "cells": [
  {
   "cell_type": "code",
   "execution_count": 1,
   "id": "fb398b8c",
   "metadata": {},
   "outputs": [
    {
     "name": "stdout",
     "output_type": "stream",
     "text": [
      "✅ Dataset unzipped.\n",
      "📁 Found classes: ['Acne and Rosacea Photos', 'Actinic Keratosis Basal Cell Carcinoma and other Malignant Lesions', 'Atopic Dermatitis Photos', 'Bullous Disease Photos', 'Cellulitis Impetigo and other Bacterial Infections', 'dataset_split', 'Eczema Photos', 'Exanthems and Drug Eruptions', 'Hair Loss Photos Alopecia and other Hair Diseases', 'Herpes HPV and other STDs Photos', 'Light Diseases and Disorders of Pigmentation', 'Lupus and other Connective Tissue diseases', 'Melanoma Skin Cancer Nevi and Moles', 'Nail Fungus and other Nail Disease', 'Poison Ivy Photos and other Contact Dermatitis', 'Psoriasis pictures Lichen Planus and related diseases', 'Scabies Lyme Disease and other Infestations and Bites', 'Seborrheic Keratoses and other Benign Tumors', 'Systemic Disease', 'Tinea Ringworm Candidiasis and other Fungal Infections', 'Urticaria Hives', 'Vascular Tumors', 'Vasculitis Photos', 'Warts Molluscum and other Viral Infections']\n",
      "📸 Acne and Rosacea Photos: 312 valid image(s)\n",
      "📸 Actinic Keratosis Basal Cell Carcinoma and other Malignant Lesions: 288 valid image(s)\n",
      "📸 Atopic Dermatitis Photos: 123 valid image(s)\n",
      "📸 Bullous Disease Photos: 113 valid image(s)\n",
      "📸 Cellulitis Impetigo and other Bacterial Infections: 73 valid image(s)\n",
      "📸 dataset_split: 0 valid image(s)\n",
      "⚠️ Skipping 'dataset_split' — not enough images to split.\n",
      "📸 Eczema Photos: 309 valid image(s)\n",
      "📸 Exanthems and Drug Eruptions: 101 valid image(s)\n",
      "📸 Hair Loss Photos Alopecia and other Hair Diseases: 60 valid image(s)\n",
      "📸 Herpes HPV and other STDs Photos: 102 valid image(s)\n",
      "📸 Light Diseases and Disorders of Pigmentation: 143 valid image(s)\n",
      "📸 Lupus and other Connective Tissue diseases: 105 valid image(s)\n",
      "📸 Melanoma Skin Cancer Nevi and Moles: 116 valid image(s)\n",
      "📸 Nail Fungus and other Nail Disease: 261 valid image(s)\n",
      "📸 Poison Ivy Photos and other Contact Dermatitis: 65 valid image(s)\n",
      "📸 Psoriasis pictures Lichen Planus and related diseases: 352 valid image(s)\n",
      "📸 Scabies Lyme Disease and other Infestations and Bites: 108 valid image(s)\n",
      "📸 Seborrheic Keratoses and other Benign Tumors: 343 valid image(s)\n",
      "📸 Systemic Disease: 152 valid image(s)\n",
      "📸 Tinea Ringworm Candidiasis and other Fungal Infections: 325 valid image(s)\n",
      "📸 Urticaria Hives: 53 valid image(s)\n",
      "📸 Vascular Tumors: 121 valid image(s)\n",
      "📸 Vasculitis Photos: 105 valid image(s)\n",
      "📸 Warts Molluscum and other Viral Infections: 272 valid image(s)\n",
      "✅ Dataset split into train/test at: C:\\Users\\Lenovo LOQ\\Downloads\\Deep Learning Capstone\\Skin\\dataset_split\n"
     ]
    }
   ],
   "source": [
    "import os\n",
    "import zipfile\n",
    "import shutil\n",
    "from sklearn.model_selection import train_test_split\n",
    "import stat\n",
    "\n",
    "# --- CONFIGURATION ---\n",
    "# Path to your ZIP file\n",
    "zip_path = r\"C:\\Users\\Lenovo LOQ\\Downloads\\Deep Learning Capstone\\Skin.zip\"\n",
    "# Where to extract it\n",
    "extract_dir = r\"C:\\Users\\Lenovo LOQ\\Downloads\\Deep Learning Capstone\\Skin\"\n",
    "# Where to store the train/test split version\n",
    "base_dir = os.path.join(extract_dir, \"dataset_split\")\n",
    "\n",
    "# --- STEP 1: UNZIP THE DATASET ---\n",
    "if not os.path.exists(extract_dir):\n",
    "    os.makedirs(extract_dir)\n",
    "\n",
    "with zipfile.ZipFile(zip_path, 'r') as zip_ref:\n",
    "    zip_ref.extractall(extract_dir)\n",
    "print(\"✅ Dataset unzipped.\")\n",
    "\n",
    "# --- HANDLE FILE PERMISSIONS (for deleting folders) ---\n",
    "def on_rm_error(func, path, exc_info):\n",
    "    os.chmod(path, stat.S_IWRITE)\n",
    "    func(path)\n",
    "\n",
    "# --- STEP 2: PREPARE DATASET SPLIT ---\n",
    "def prepare_dataset(input_dir, output_dir, train_ratio=0.8):\n",
    "    if os.path.exists(output_dir):\n",
    "        shutil.rmtree(output_dir, onerror=on_rm_error)\n",
    "    os.makedirs(output_dir, exist_ok=True)\n",
    "\n",
    "    classes = [d for d in os.listdir(input_dir) if os.path.isdir(os.path.join(input_dir, d))]\n",
    "    print(f\"📁 Found classes: {classes}\")\n",
    "\n",
    "    allowed_exts = ('.jpg', '.jpeg', '.png')\n",
    "\n",
    "    for cls in classes:\n",
    "        class_dir = os.path.join(input_dir, cls)\n",
    "        images = [\n",
    "            f for f in os.listdir(class_dir)\n",
    "            if os.path.isfile(os.path.join(class_dir, f)) and f.lower().strip().endswith(allowed_exts)\n",
    "        ]\n",
    "\n",
    "        print(f\"📸 {cls}: {len(images)} valid image(s)\")\n",
    "\n",
    "        if len(images) < 2:\n",
    "            print(f\"⚠️ Skipping '{cls}' — not enough images to split.\")\n",
    "            continue\n",
    "\n",
    "        train_imgs, test_imgs = train_test_split(images, train_size=train_ratio, random_state=42)\n",
    "\n",
    "        for split, img_list in zip([\"train\", \"test\"], [train_imgs, test_imgs]):\n",
    "            split_dir = os.path.join(output_dir, split, cls)\n",
    "            os.makedirs(split_dir, exist_ok=True)\n",
    "\n",
    "            for img in img_list:\n",
    "                src = os.path.join(class_dir, img)\n",
    "                dst = os.path.join(split_dir, img)\n",
    "                shutil.copy2(src, dst)\n",
    "\n",
    "    print(f\"✅ Dataset split into train/test at: {output_dir}\")\n",
    "\n",
    "# --- STEP 3: AUTO-DETECT ROOT FOLDER CONTAINING CLASSES ---\n",
    "# Usually after unzipping, the image folders will be inside extract_dir directly\n",
    "dataset_source = extract_dir\n",
    "\n",
    "prepare_dataset(dataset_source, base_dir)\n"
   ]
  },
  {
   "cell_type": "code",
   "execution_count": 3,
   "id": "ff8d3ea7",
   "metadata": {},
   "outputs": [
    {
     "name": "stdout",
     "output_type": "stream",
     "text": [
      "Found 3192 images belonging to 23 classes.\n",
      "Found 810 images belonging to 23 classes.\n",
      "Class indices: {'Acne and Rosacea Photos': 0, 'Actinic Keratosis Basal Cell Carcinoma and other Malignant Lesions': 1, 'Atopic Dermatitis Photos': 2, 'Bullous Disease Photos': 3, 'Cellulitis Impetigo and other Bacterial Infections': 4, 'Eczema Photos': 5, 'Exanthems and Drug Eruptions': 6, 'Hair Loss Photos Alopecia and other Hair Diseases': 7, 'Herpes HPV and other STDs Photos': 8, 'Light Diseases and Disorders of Pigmentation': 9, 'Lupus and other Connective Tissue diseases': 10, 'Melanoma Skin Cancer Nevi and Moles': 11, 'Nail Fungus and other Nail Disease': 12, 'Poison Ivy Photos and other Contact Dermatitis': 13, 'Psoriasis pictures Lichen Planus and related diseases': 14, 'Scabies Lyme Disease and other Infestations and Bites': 15, 'Seborrheic Keratoses and other Benign Tumors': 16, 'Systemic Disease': 17, 'Tinea Ringworm Candidiasis and other Fungal Infections': 18, 'Urticaria Hives': 19, 'Vascular Tumors': 20, 'Vasculitis Photos': 21, 'Warts Molluscum and other Viral Infections': 22}\n"
     ]
    }
   ],
   "source": [
    "import os\n",
    "from tensorflow.keras.preprocessing.image import ImageDataGenerator\n",
    "\n",
    "# Set this path to where you created your dataset_split\n",
    "base_dir = r\"C:\\Users\\Lenovo LOQ\\Downloads\\Deep Learning Capstone\\Skin\\dataset_split\"\n",
    "\n",
    "train_dir = os.path.join(base_dir, \"train\")\n",
    "test_dir = os.path.join(base_dir, \"test\")\n",
    "\n",
    "# Define image size expected by most pre-trained models\n",
    "IMAGE_SIZE = (224, 224)\n",
    "BATCH_SIZE = 32\n",
    "\n",
    "# --- DATA AUGMENTATION FOR TRAINING ---\n",
    "train_datagen = ImageDataGenerator(\n",
    "    rescale=1./255,\n",
    "    rotation_range=15,\n",
    "    width_shift_range=0.1,\n",
    "    height_shift_range=0.1,\n",
    "    zoom_range=0.2,\n",
    "    horizontal_flip=True,\n",
    "    fill_mode='nearest'\n",
    ")\n",
    "\n",
    "# --- ONLY RESCALE TESTING IMAGES ---\n",
    "test_datagen = ImageDataGenerator(rescale=1./255)\n",
    "\n",
    "# --- LOAD TRAINING DATA ---\n",
    "train_generator = train_datagen.flow_from_directory(\n",
    "    train_dir,\n",
    "    target_size=IMAGE_SIZE,\n",
    "    batch_size=BATCH_SIZE,\n",
    "    class_mode='categorical'  # For multi-class classification\n",
    ")\n",
    "\n",
    "# --- LOAD TESTING DATA ---\n",
    "test_generator = test_datagen.flow_from_directory(\n",
    "    test_dir,\n",
    "    target_size=IMAGE_SIZE,\n",
    "    batch_size=BATCH_SIZE,\n",
    "    class_mode='categorical',\n",
    "    shuffle=False  # Important for evaluation\n",
    ")\n",
    "\n",
    "# Show class mappings\n",
    "print(\"Class indices:\", train_generator.class_indices)\n"
   ]
  },
  {
   "cell_type": "code",
   "execution_count": 6,
   "id": "6c2ff03e",
   "metadata": {},
   "outputs": [
    {
     "name": "stdout",
     "output_type": "stream",
     "text": [
      "Epoch 1/25\n",
      "\u001b[1m100/100\u001b[0m \u001b[32m━━━━━━━━━━━━━━━━━━━━\u001b[0m\u001b[37m\u001b[0m \u001b[1m0s\u001b[0m 12s/step - accuracy: 0.1272 - loss: 3.2292 \n",
      "Epoch 1: val_accuracy improved from -inf to 0.22099, saving model to best_model.h5\n"
     ]
    },
    {
     "name": "stderr",
     "output_type": "stream",
     "text": [
      "WARNING:absl:You are saving your model as an HDF5 file via `model.save()` or `keras.saving.save_model(model)`. This file format is considered legacy. We recommend using instead the native Keras format, e.g. `model.save('my_model.keras')` or `keras.saving.save_model(model, 'my_model.keras')`. \n"
     ]
    },
    {
     "name": "stdout",
     "output_type": "stream",
     "text": [
      "\u001b[1m100/100\u001b[0m \u001b[32m━━━━━━━━━━━━━━━━━━━━\u001b[0m\u001b[37m\u001b[0m \u001b[1m1327s\u001b[0m 12s/step - accuracy: 0.1278 - loss: 3.2267 - val_accuracy: 0.2210 - val_loss: 2.7760\n",
      "Epoch 2/25\n",
      "\u001b[1m100/100\u001b[0m \u001b[32m━━━━━━━━━━━━━━━━━━━━\u001b[0m\u001b[37m\u001b[0m \u001b[1m0s\u001b[0m 11s/step - accuracy: 0.3223 - loss: 2.3317 \n",
      "Epoch 2: val_accuracy improved from 0.22099 to 0.27531, saving model to best_model.h5\n"
     ]
    },
    {
     "name": "stderr",
     "output_type": "stream",
     "text": [
      "WARNING:absl:You are saving your model as an HDF5 file via `model.save()` or `keras.saving.save_model(model)`. This file format is considered legacy. We recommend using instead the native Keras format, e.g. `model.save('my_model.keras')` or `keras.saving.save_model(model, 'my_model.keras')`. \n"
     ]
    },
    {
     "name": "stdout",
     "output_type": "stream",
     "text": [
      "\u001b[1m100/100\u001b[0m \u001b[32m━━━━━━━━━━━━━━━━━━━━\u001b[0m\u001b[37m\u001b[0m \u001b[1m1196s\u001b[0m 12s/step - accuracy: 0.3224 - loss: 2.3315 - val_accuracy: 0.2753 - val_loss: 2.5113\n",
      "Epoch 3/25\n",
      "\u001b[1m100/100\u001b[0m \u001b[32m━━━━━━━━━━━━━━━━━━━━\u001b[0m\u001b[37m\u001b[0m \u001b[1m0s\u001b[0m 11s/step - accuracy: 0.4188 - loss: 1.9618 \n",
      "Epoch 3: val_accuracy improved from 0.27531 to 0.34321, saving model to best_model.h5\n"
     ]
    },
    {
     "name": "stderr",
     "output_type": "stream",
     "text": [
      "WARNING:absl:You are saving your model as an HDF5 file via `model.save()` or `keras.saving.save_model(model)`. This file format is considered legacy. We recommend using instead the native Keras format, e.g. `model.save('my_model.keras')` or `keras.saving.save_model(model, 'my_model.keras')`. \n"
     ]
    },
    {
     "name": "stdout",
     "output_type": "stream",
     "text": [
      "\u001b[1m100/100\u001b[0m \u001b[32m━━━━━━━━━━━━━━━━━━━━\u001b[0m\u001b[37m\u001b[0m \u001b[1m1200s\u001b[0m 12s/step - accuracy: 0.4189 - loss: 1.9614 - val_accuracy: 0.3432 - val_loss: 2.2953\n",
      "Epoch 4/25\n",
      "\u001b[1m100/100\u001b[0m \u001b[32m━━━━━━━━━━━━━━━━━━━━\u001b[0m\u001b[37m\u001b[0m \u001b[1m0s\u001b[0m 11s/step - accuracy: 0.5131 - loss: 1.6311 \n",
      "Epoch 4: val_accuracy improved from 0.34321 to 0.37654, saving model to best_model.h5\n"
     ]
    },
    {
     "name": "stderr",
     "output_type": "stream",
     "text": [
      "WARNING:absl:You are saving your model as an HDF5 file via `model.save()` or `keras.saving.save_model(model)`. This file format is considered legacy. We recommend using instead the native Keras format, e.g. `model.save('my_model.keras')` or `keras.saving.save_model(model, 'my_model.keras')`. \n"
     ]
    },
    {
     "name": "stdout",
     "output_type": "stream",
     "text": [
      "\u001b[1m100/100\u001b[0m \u001b[32m━━━━━━━━━━━━━━━━━━━━\u001b[0m\u001b[37m\u001b[0m \u001b[1m1194s\u001b[0m 12s/step - accuracy: 0.5132 - loss: 1.6306 - val_accuracy: 0.3765 - val_loss: 2.2234\n",
      "Epoch 5/25\n",
      "\u001b[1m100/100\u001b[0m \u001b[32m━━━━━━━━━━━━━━━━━━━━\u001b[0m\u001b[37m\u001b[0m \u001b[1m0s\u001b[0m 11s/step - accuracy: 0.6124 - loss: 1.2913 \n",
      "Epoch 5: val_accuracy did not improve from 0.37654\n",
      "\u001b[1m100/100\u001b[0m \u001b[32m━━━━━━━━━━━━━━━━━━━━\u001b[0m\u001b[37m\u001b[0m \u001b[1m1193s\u001b[0m 12s/step - accuracy: 0.6123 - loss: 1.2915 - val_accuracy: 0.3667 - val_loss: 2.2980\n",
      "Epoch 6/25\n",
      "\u001b[1m100/100\u001b[0m \u001b[32m━━━━━━━━━━━━━━━━━━━━\u001b[0m\u001b[37m\u001b[0m \u001b[1m0s\u001b[0m 11s/step - accuracy: 0.7075 - loss: 1.0276 \n",
      "Epoch 6: val_accuracy did not improve from 0.37654\n",
      "\u001b[1m100/100\u001b[0m \u001b[32m━━━━━━━━━━━━━━━━━━━━\u001b[0m\u001b[37m\u001b[0m \u001b[1m1193s\u001b[0m 12s/step - accuracy: 0.7074 - loss: 1.0279 - val_accuracy: 0.3642 - val_loss: 2.2289\n",
      "Epoch 7/25\n",
      "\u001b[1m100/100\u001b[0m \u001b[32m━━━━━━━━━━━━━━━━━━━━\u001b[0m\u001b[37m\u001b[0m \u001b[1m0s\u001b[0m 11s/step - accuracy: 0.7793 - loss: 0.7753 \n",
      "Epoch 7: val_accuracy did not improve from 0.37654\n",
      "\u001b[1m100/100\u001b[0m \u001b[32m━━━━━━━━━━━━━━━━━━━━\u001b[0m\u001b[37m\u001b[0m \u001b[1m1194s\u001b[0m 12s/step - accuracy: 0.7792 - loss: 0.7757 - val_accuracy: 0.3704 - val_loss: 2.3938\n",
      "Epoch 8/25\n",
      "\u001b[1m100/100\u001b[0m \u001b[32m━━━━━━━━━━━━━━━━━━━━\u001b[0m\u001b[37m\u001b[0m \u001b[1m0s\u001b[0m 11s/step - accuracy: 0.8407 - loss: 0.6116 \n",
      "Epoch 8: val_accuracy improved from 0.37654 to 0.39012, saving model to best_model.h5\n"
     ]
    },
    {
     "name": "stderr",
     "output_type": "stream",
     "text": [
      "WARNING:absl:You are saving your model as an HDF5 file via `model.save()` or `keras.saving.save_model(model)`. This file format is considered legacy. We recommend using instead the native Keras format, e.g. `model.save('my_model.keras')` or `keras.saving.save_model(model, 'my_model.keras')`. \n"
     ]
    },
    {
     "name": "stdout",
     "output_type": "stream",
     "text": [
      "\u001b[1m100/100\u001b[0m \u001b[32m━━━━━━━━━━━━━━━━━━━━\u001b[0m\u001b[37m\u001b[0m \u001b[1m1198s\u001b[0m 12s/step - accuracy: 0.8406 - loss: 0.6117 - val_accuracy: 0.3901 - val_loss: 2.3512\n",
      "Epoch 9/25\n",
      "\u001b[1m100/100\u001b[0m \u001b[32m━━━━━━━━━━━━━━━━━━━━\u001b[0m\u001b[37m\u001b[0m \u001b[1m0s\u001b[0m 11s/step - accuracy: 0.8833 - loss: 0.4448 \n",
      "Epoch 9: val_accuracy did not improve from 0.39012\n",
      "\u001b[1m100/100\u001b[0m \u001b[32m━━━━━━━━━━━━━━━━━━━━\u001b[0m\u001b[37m\u001b[0m \u001b[1m1195s\u001b[0m 12s/step - accuracy: 0.8832 - loss: 0.4450 - val_accuracy: 0.3728 - val_loss: 2.5740\n",
      "Epoch 10/25\n",
      "\u001b[1m100/100\u001b[0m \u001b[32m━━━━━━━━━━━━━━━━━━━━\u001b[0m\u001b[37m\u001b[0m \u001b[1m0s\u001b[0m 11s/step - accuracy: 0.9148 - loss: 0.3477 \n",
      "Epoch 10: val_accuracy improved from 0.39012 to 0.39259, saving model to best_model.h5\n"
     ]
    },
    {
     "name": "stderr",
     "output_type": "stream",
     "text": [
      "WARNING:absl:You are saving your model as an HDF5 file via `model.save()` or `keras.saving.save_model(model)`. This file format is considered legacy. We recommend using instead the native Keras format, e.g. `model.save('my_model.keras')` or `keras.saving.save_model(model, 'my_model.keras')`. \n"
     ]
    },
    {
     "name": "stdout",
     "output_type": "stream",
     "text": [
      "\u001b[1m100/100\u001b[0m \u001b[32m━━━━━━━━━━━━━━━━━━━━\u001b[0m\u001b[37m\u001b[0m \u001b[1m1180s\u001b[0m 12s/step - accuracy: 0.9147 - loss: 0.3480 - val_accuracy: 0.3926 - val_loss: 2.4315\n",
      "Epoch 11/25\n",
      "\u001b[1m100/100\u001b[0m \u001b[32m━━━━━━━━━━━━━━━━━━━━\u001b[0m\u001b[37m\u001b[0m \u001b[1m0s\u001b[0m 23s/step - accuracy: 0.9280 - loss: 0.2924 \n",
      "Epoch 11: val_accuracy did not improve from 0.39259\n",
      "\u001b[1m100/100\u001b[0m \u001b[32m━━━━━━━━━━━━━━━━━━━━\u001b[0m\u001b[37m\u001b[0m \u001b[1m2319s\u001b[0m 23s/step - accuracy: 0.9280 - loss: 0.2925 - val_accuracy: 0.3728 - val_loss: 2.7045\n",
      "Epoch 12/25\n",
      "\u001b[1m100/100\u001b[0m \u001b[32m━━━━━━━━━━━━━━━━━━━━\u001b[0m\u001b[37m\u001b[0m \u001b[1m0s\u001b[0m 11s/step - accuracy: 0.9454 - loss: 0.2528 \n",
      "Epoch 12: val_accuracy improved from 0.39259 to 0.39383, saving model to best_model.h5\n"
     ]
    },
    {
     "name": "stderr",
     "output_type": "stream",
     "text": [
      "WARNING:absl:You are saving your model as an HDF5 file via `model.save()` or `keras.saving.save_model(model)`. This file format is considered legacy. We recommend using instead the native Keras format, e.g. `model.save('my_model.keras')` or `keras.saving.save_model(model, 'my_model.keras')`. \n"
     ]
    },
    {
     "name": "stdout",
     "output_type": "stream",
     "text": [
      "\u001b[1m100/100\u001b[0m \u001b[32m━━━━━━━━━━━━━━━━━━━━\u001b[0m\u001b[37m\u001b[0m \u001b[1m1201s\u001b[0m 12s/step - accuracy: 0.9454 - loss: 0.2529 - val_accuracy: 0.3938 - val_loss: 2.6288\n",
      "Epoch 13/25\n",
      "\u001b[1m100/100\u001b[0m \u001b[32m━━━━━━━━━━━━━━━━━━━━\u001b[0m\u001b[37m\u001b[0m \u001b[1m0s\u001b[0m 11s/step - accuracy: 0.9486 - loss: 0.1996 \n",
      "Epoch 13: val_accuracy improved from 0.39383 to 0.39753, saving model to best_model.h5\n"
     ]
    },
    {
     "name": "stderr",
     "output_type": "stream",
     "text": [
      "WARNING:absl:You are saving your model as an HDF5 file via `model.save()` or `keras.saving.save_model(model)`. This file format is considered legacy. We recommend using instead the native Keras format, e.g. `model.save('my_model.keras')` or `keras.saving.save_model(model, 'my_model.keras')`. \n"
     ]
    },
    {
     "name": "stdout",
     "output_type": "stream",
     "text": [
      "\u001b[1m100/100\u001b[0m \u001b[32m━━━━━━━━━━━━━━━━━━━━\u001b[0m\u001b[37m\u001b[0m \u001b[1m1188s\u001b[0m 12s/step - accuracy: 0.9487 - loss: 0.1996 - val_accuracy: 0.3975 - val_loss: 2.8205\n",
      "Epoch 14/25\n",
      "\u001b[1m100/100\u001b[0m \u001b[32m━━━━━━━━━━━━━━━━━━━━\u001b[0m\u001b[37m\u001b[0m \u001b[1m0s\u001b[0m 11s/step - accuracy: 0.9706 - loss: 0.1464 \n",
      "Epoch 14: val_accuracy did not improve from 0.39753\n",
      "\u001b[1m100/100\u001b[0m \u001b[32m━━━━━━━━━━━━━━━━━━━━\u001b[0m\u001b[37m\u001b[0m \u001b[1m1189s\u001b[0m 12s/step - accuracy: 0.9705 - loss: 0.1466 - val_accuracy: 0.3914 - val_loss: 2.7541\n",
      "Epoch 15/25\n",
      "\u001b[1m100/100\u001b[0m \u001b[32m━━━━━━━━━━━━━━━━━━━━\u001b[0m\u001b[37m\u001b[0m \u001b[1m0s\u001b[0m 11s/step - accuracy: 0.9610 - loss: 0.1538 \n",
      "Epoch 15: val_accuracy improved from 0.39753 to 0.40617, saving model to best_model.h5\n"
     ]
    },
    {
     "name": "stderr",
     "output_type": "stream",
     "text": [
      "WARNING:absl:You are saving your model as an HDF5 file via `model.save()` or `keras.saving.save_model(model)`. This file format is considered legacy. We recommend using instead the native Keras format, e.g. `model.save('my_model.keras')` or `keras.saving.save_model(model, 'my_model.keras')`. \n"
     ]
    },
    {
     "name": "stdout",
     "output_type": "stream",
     "text": [
      "\u001b[1m100/100\u001b[0m \u001b[32m━━━━━━━━━━━━━━━━━━━━\u001b[0m\u001b[37m\u001b[0m \u001b[1m1201s\u001b[0m 12s/step - accuracy: 0.9610 - loss: 0.1537 - val_accuracy: 0.4062 - val_loss: 2.9382\n",
      "Epoch 16/25\n",
      "\u001b[1m100/100\u001b[0m \u001b[32m━━━━━━━━━━━━━━━━━━━━\u001b[0m\u001b[37m\u001b[0m \u001b[1m0s\u001b[0m 11s/step - accuracy: 0.9734 - loss: 0.1239 \n",
      "Epoch 16: val_accuracy improved from 0.40617 to 0.41111, saving model to best_model.h5\n"
     ]
    },
    {
     "name": "stderr",
     "output_type": "stream",
     "text": [
      "WARNING:absl:You are saving your model as an HDF5 file via `model.save()` or `keras.saving.save_model(model)`. This file format is considered legacy. We recommend using instead the native Keras format, e.g. `model.save('my_model.keras')` or `keras.saving.save_model(model, 'my_model.keras')`. \n"
     ]
    },
    {
     "name": "stdout",
     "output_type": "stream",
     "text": [
      "\u001b[1m100/100\u001b[0m \u001b[32m━━━━━━━━━━━━━━━━━━━━\u001b[0m\u001b[37m\u001b[0m \u001b[1m1193s\u001b[0m 12s/step - accuracy: 0.9733 - loss: 0.1241 - val_accuracy: 0.4111 - val_loss: 2.9402\n",
      "Epoch 17/25\n",
      "\u001b[1m100/100\u001b[0m \u001b[32m━━━━━━━━━━━━━━━━━━━━\u001b[0m\u001b[37m\u001b[0m \u001b[1m0s\u001b[0m 11s/step - accuracy: 0.9670 - loss: 0.1432 \n",
      "Epoch 17: val_accuracy did not improve from 0.41111\n",
      "\u001b[1m100/100\u001b[0m \u001b[32m━━━━━━━━━━━━━━━━━━━━\u001b[0m\u001b[37m\u001b[0m \u001b[1m1187s\u001b[0m 12s/step - accuracy: 0.9670 - loss: 0.1432 - val_accuracy: 0.3864 - val_loss: 3.1050\n",
      "Epoch 18/25\n",
      "\u001b[1m100/100\u001b[0m \u001b[32m━━━━━━━━━━━━━━━━━━━━\u001b[0m\u001b[37m\u001b[0m \u001b[1m0s\u001b[0m 11s/step - accuracy: 0.9704 - loss: 0.1119 \n",
      "Epoch 18: val_accuracy did not improve from 0.41111\n",
      "\u001b[1m100/100\u001b[0m \u001b[32m━━━━━━━━━━━━━━━━━━━━\u001b[0m\u001b[37m\u001b[0m \u001b[1m1186s\u001b[0m 12s/step - accuracy: 0.9704 - loss: 0.1121 - val_accuracy: 0.3926 - val_loss: 3.0886\n",
      "Epoch 19/25\n",
      "\u001b[1m100/100\u001b[0m \u001b[32m━━━━━━━━━━━━━━━━━━━━\u001b[0m\u001b[37m\u001b[0m \u001b[1m0s\u001b[0m 11s/step - accuracy: 0.9768 - loss: 0.0998 \n",
      "Epoch 19: val_accuracy did not improve from 0.41111\n",
      "\u001b[1m100/100\u001b[0m \u001b[32m━━━━━━━━━━━━━━━━━━━━\u001b[0m\u001b[37m\u001b[0m \u001b[1m1183s\u001b[0m 12s/step - accuracy: 0.9767 - loss: 0.1001 - val_accuracy: 0.3951 - val_loss: 2.9780\n",
      "Epoch 20/25\n",
      "\u001b[1m100/100\u001b[0m \u001b[32m━━━━━━━━━━━━━━━━━━━━\u001b[0m\u001b[37m\u001b[0m \u001b[1m0s\u001b[0m 11s/step - accuracy: 0.9769 - loss: 0.1006 \n",
      "Epoch 20: val_accuracy did not improve from 0.41111\n",
      "\u001b[1m100/100\u001b[0m \u001b[32m━━━━━━━━━━━━━━━━━━━━\u001b[0m\u001b[37m\u001b[0m \u001b[1m1181s\u001b[0m 12s/step - accuracy: 0.9769 - loss: 0.1008 - val_accuracy: 0.3654 - val_loss: 3.0054\n",
      "Epoch 21/25\n",
      "\u001b[1m100/100\u001b[0m \u001b[32m━━━━━━━━━━━━━━━━━━━━\u001b[0m\u001b[37m\u001b[0m \u001b[1m0s\u001b[0m 11s/step - accuracy: 0.9796 - loss: 0.0915 \n",
      "Epoch 21: val_accuracy did not improve from 0.41111\n",
      "\u001b[1m100/100\u001b[0m \u001b[32m━━━━━━━━━━━━━━━━━━━━\u001b[0m\u001b[37m\u001b[0m \u001b[1m1185s\u001b[0m 12s/step - accuracy: 0.9796 - loss: 0.0915 - val_accuracy: 0.4062 - val_loss: 2.9639\n"
     ]
    }
   ],
   "source": [
    "import os\n",
    "import tensorflow as tf\n",
    "from tensorflow.keras.applications import DenseNet201\n",
    "from tensorflow.keras.layers import Dense, GlobalAveragePooling2D, Dropout\n",
    "from tensorflow.keras.models import Model\n",
    "from tensorflow.keras.optimizers import Adam\n",
    "from tensorflow.keras.callbacks import ModelCheckpoint, EarlyStopping\n",
    "\n",
    "# --- PATH CONFIGURATION ---\n",
    "NUM_CLASSES = len(train_generator.class_indices)\n",
    "\n",
    "# --- BUILDING THE MODEL ---\n",
    "base_model = DenseNet201(weights='imagenet', include_top=False, input_shape=(224, 224, 3))\n",
    "base_model.trainable = True  # Fine-tuning\n",
    "\n",
    "x = base_model.output\n",
    "x = GlobalAveragePooling2D()(x)\n",
    "x = Dropout(0.5)(x)\n",
    "predictions = Dense(NUM_CLASSES, activation='softmax')(x)\n",
    "\n",
    "model = Model(inputs=base_model.input, outputs=predictions)\n",
    "\n",
    "# --- COMPILE MODEL ---\n",
    "model.compile(optimizer=Adam(learning_rate=1e-4),\n",
    "              loss='categorical_crossentropy',\n",
    "              metrics=['accuracy'])\n",
    "\n",
    "# --- SET CALLBACKS ---\n",
    "checkpoint = ModelCheckpoint(\"best_model.h5\", monitor='val_accuracy', save_best_only=True, verbose=1)\n",
    "early_stop = EarlyStopping(monitor='val_accuracy', patience=5, restore_best_weights=True)\n",
    "\n",
    "# --- TRAIN THE MODEL ---\n",
    "history = model.fit(\n",
    "    train_generator,\n",
    "    validation_data=test_generator,\n",
    "    epochs=25,\n",
    "    callbacks=[checkpoint, early_stop]\n",
    ")\n"
   ]
  },
  {
   "cell_type": "code",
   "execution_count": 7,
   "id": "aea45413",
   "metadata": {},
   "outputs": [
    {
     "data": {
      "image/png": "[encoded data removed]",
      "text/plain": [
       "<Figure size 1200x500 with 2 Axes>"
      ]
     },
     "metadata": {},
     "output_type": "display_data"
    }
   ],
   "source": [
    "import matplotlib.pyplot as plt\n",
    "\n",
    "# Plot training history\n",
    "plt.figure(figsize=(12, 5))\n",
    "plt.subplot(1, 2, 1)\n",
    "plt.plot(history.history['accuracy'], label='Train')\n",
    "plt.plot(history.history['val_accuracy'], label='Validation')\n",
    "plt.title(\"Model Accuracy\")\n",
    "plt.xlabel(\"Epoch\")\n",
    "plt.ylabel(\"Accuracy\")\n",
    "plt.legend()\n",
    "\n",
    "plt.subplot(1, 2, 2)\n",
    "plt.plot(history.history['loss'], label='Train')\n",
    "plt.plot(history.history['val_loss'], label='Validation')\n",
    "plt.title(\"Model Loss\")\n",
    "plt.xlabel(\"Epoch\")\n",
    "plt.ylabel(\"Loss\")\n",
    "plt.legend()\n",
    "\n",
    "plt.tight_layout()\n",
    "plt.show()\n"
   ]
  },
  {
   "cell_type": "code",
   "execution_count": null,
   "id": "76d48057",
   "metadata": {},
   "outputs": [],
   "source": []
  }
 ],
 "metadata": {
  "kernelspec": {
   "display_name": "Python 3",
   "language": "python",
   "name": "python3"
  },
  "language_info": {
   "codemirror_mode": {
    "name": "ipython",
    "version": 3
   },
   "file_extension": ".py",
   "mimetype": "text/x-python",
   "name": "python",
   "nbconvert_exporter": "python",
   "pygments_lexer": "ipython3",
   "version": "3.12.6"
  }
 },
 "nbformat": 4,
 "nbformat_minor": 5
}
